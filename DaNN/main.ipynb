{
 "cells": [
  {
   "cell_type": "markdown",
   "id": "5d5f6c0e",
   "metadata": {},
   "source": [
    "# 全局配置"
   ]
  },
  {
   "cell_type": "code",
   "execution_count": 2,
   "id": "6e29bf87",
   "metadata": {},
   "outputs": [],
   "source": [
    "import os\n",
    "from torch import nn\n",
    "import torch\n",
    "import models\n",
    "\n",
    "os.environ[\"CUDA_VISIBLE_DEVICES\"] = \"-1\"  # 屏蔽GPU\n",
    "os.sys.path.append(r'F:\\work\\jupyter\\Transfer Learning')\n",
    "from tools import mmd\n",
    "from tools import torch_plot\n",
    "from tools import load\n",
    "device = 'cuda' if torch.cuda.is_available() else 'cpu'\n",
    "\n",
    "# 文件路径等\n",
    "root = r'F:\\凯斯西储大学数据'\n",
    "frequency = '12K'\n",
    "classes = ('滚动体故障', '内圈故障', '外圈故障', '正常')\n",
    "where = '风扇端'\n",
    "source = '0HP'\n",
    "target = '1HP'\n",
    "batch_size = 32"
   ]
  },
  {
   "cell_type": "markdown",
   "id": "48cad4ea",
   "metadata": {},
   "source": [
    "# 加载数据"
   ]
  },
  {
   "cell_type": "code",
   "execution_count": 20,
   "id": "8b70c773",
   "metadata": {},
   "outputs": [],
   "source": [
    "source_train = load.load_source(root, frequency, classes, source, where)\n",
    "target_train, target_test = load.load_target(root, frequency, classes, target, where)"
   ]
  },
  {
   "cell_type": "markdown",
   "id": "2aa78926",
   "metadata": {},
   "source": [
    "# 训练网络"
   ]
  },
  {
   "cell_type": "code",
   "execution_count": 18,
   "id": "db9faa47",
   "metadata": {},
   "outputs": [],
   "source": [
    "def train(source, target, model, lr):\n",
    "    optimizer = torch.optim.Adam(model.parameters(), lr=lr)   # 优化器\n",
    "    \n",
    "    len_dataloader = min(len(source), len(target))\n",
    "    \n",
    "    size_source = len(source.dataset)    # 源域的样本总量\n",
    "    num_batches_source = len(source)            # 源域的批数\n",
    "    num_batches_target = len(target)            # 目标域的批数\n",
    "    \n",
    "    # 定义损失函数\n",
    "    loss_fn_classification = nn.CrossEntropyLoss(reduction='mean')     # 分类损失函数\n",
    "    loss_fn_dicriminate = nn.CrossEntropyLoss(reduction='mean') # 领域鉴别损失\n",
    "\n",
    "    # 训练\n",
    "    model.train()\n",
    "    train_loss, correct, total_discriminate_loss = 0., 0., 0.\n",
    "    \n",
    "    # ------------------源域------------------\n",
    "    for batch, (data, y) in enumerate(source):\n",
    "        data, y = data.to(device), y.to(device)\n",
    "        # -----前向传播以及损失计算-----\n",
    "        classify_output, domain_output = model(data)\n",
    "        \n",
    "        classify_loss = loss_fn_classification(classify_output, y)       # 分类损失\n",
    "        domain_label = torch.ones(batch_size).to(torch.long)\n",
    "        domain_label = domain_label.to(device)    # 域标签，源域类别记为1\n",
    "        discriminate_loss = loss_fn_dicriminate(domain_output, domain_label)  # 域鉴别损失\n",
    "        loss = classify_loss + discriminate_loss      # 总的损失\n",
    "        \n",
    "        total_discriminate_loss += discriminate_loss.item()\n",
    "        train_loss += loss.item()\n",
    "\n",
    "        # -------计算分类正确的个数-------\n",
    "        correct += (classify_output.argmax(1) == y).type(torch.float).sum().item() \n",
    "        \n",
    "        # ------------------反向传播------------------\n",
    "        optimizer.zero_grad()\n",
    "        loss.backward()\n",
    "        optimizer.step()\n",
    "        if batch % 5 == 0:\n",
    "            loss, current = loss.item(), batch * len(data)\n",
    "            print(f\"[Source] loss: {loss:>7f}  [{current:>5d}/{size_source:>5d}]\")\n",
    "            \n",
    "    train_loss /= num_batches_source   # 计算训练损失\n",
    "    correct /= size_source             # 分类正确率\n",
    "    \n",
    "    # -----------------目标域----------------- \n",
    "    temp_dicriminate_loss = 0.    # 用于保存损失，因为源域和目标域的batch数不一样，所以用两个变量来保存\n",
    "    for batch, (data, y) in enumerate(target):\n",
    "        data, y = data.to(device), y.to(device)\n",
    "        # -----前向传播以及损失计算-----\n",
    "        _, domain_output = model(data)\n",
    "        domain_label = torch.zeros(batch_size).to(torch.long)\n",
    "        domain_label = domain_label.to(device)    # 域标签，源域类别记为1\n",
    "        loss = loss_fn_dicriminate(domain_output, domain_label) # 目标域类别记为0\n",
    "        \n",
    "        temp_dicriminate_loss += discriminate_loss.item()\n",
    "\n",
    "        # ------------------反向传播------------------\n",
    "        optimizer.zero_grad()\n",
    "        loss.backward()\n",
    "        optimizer.step()\n",
    "        \n",
    "        if batch % 5 == 0:\n",
    "            loss, current = loss.item(), batch * len(data)\n",
    "            print(f\"[Target] loss: {loss:>7f}  [{current:>5d}/{size_source:>5d}]\")\n",
    "    temp_dicriminate_loss /= num_batches_target\n",
    "    \n",
    "    # -----------总的损失------------- \n",
    "    train_loss += temp_dicriminate_loss                # 总的训练损失\n",
    "    total_discriminate_loss += temp_dicriminate_loss   # 领域鉴别损失\n",
    "    \n",
    "    return train_loss, correct, total_discriminate_loss\n",
    "\n",
    "\n",
    "def test(dataloader, model):\n",
    "    loss_fn = nn.CrossEntropyLoss()     # 分类损失函数\n",
    "    size = len(dataloader.dataset)\n",
    "    num_batches = len(dataloader)\n",
    "    model.eval()\n",
    "    test_loss, correct, discriminate_loss = 0., 0., 0.\n",
    "\n",
    "    with torch.no_grad():\n",
    "        for X, y in dataloader:\n",
    "            X, y = X.to(device), y.to(device)\n",
    "            classify_output, _ = model(X, y)\n",
    "            classification_loss = loss_fn(classify_output, y)      # 分类损失\n",
    "            test_loss += classification_loss.item()\n",
    "            correct += (classify_output.argmax(1) == y).type(torch.float).sum().item()\n",
    "            \n",
    "    test_loss /= num_batches\n",
    "    correct /= size\n",
    "    print(f\"Test Error: \\n Accuracy: {(100 * correct):>0.1f}%, Avg loss: {test_loss:>8f} \\n\")\n",
    "    return test_loss, correct"
   ]
  },
  {
   "cell_type": "code",
   "execution_count": null,
   "id": "9b89bef0",
   "metadata": {
    "scrolled": false
   },
   "outputs": [],
   "source": [
    "model = models.DaNN().to(device)\n",
    "    \n",
    "epochs = 50\n",
    "\n",
    "train_losses = []\n",
    "train_accs = []\n",
    "train_d_losses = []\n",
    "\n",
    "test_losses = []\n",
    "test_accs = []\n",
    "\n",
    "for t in range(epochs):\n",
    "    print(f\"Epoch {t+1}\\n-------------------------------\")\n",
    "    train_loss, train_acc, train_d_loss = train(source_train, target_train, model, lr=1e-4)\n",
    "    train_losses.append(train_loss)\n",
    "    train_accs.append(train_acc)\n",
    "    train_d_losses.append(train_d_loss)\n",
    "\n",
    "    # 测试模型\n",
    "    test_loss, test_acc = test(target_test, model)\n",
    "    test_losses.append(test_loss)\n",
    "    test_accs.append(test_acc)\n",
    "\n",
    "print(\"Done!\")"
   ]
  },
  {
   "cell_type": "code",
   "execution_count": 23,
   "id": "8b77e4c1",
   "metadata": {},
   "outputs": [
    {
     "data": {
      "image/png": "[encoded data removed]",
      "text/plain": [
       "<Figure size 432x288 with 1 Axes>"
      ]
     },
     "metadata": {
      "needs_background": "light"
     },
     "output_type": "display_data"
    }
   ],
   "source": [
    "torch_plot.plot(train_losses, test_losses, dtype='loss')"
   ]
  },
  {
   "cell_type": "code",
   "execution_count": 24,
   "id": "043a2e8d",
   "metadata": {},
   "outputs": [
    {
     "data": {
      "image/png": "[encoded data removed]",
      "text/plain": [
       "<Figure size 432x288 with 1 Axes>"
      ]
     },
     "metadata": {
      "needs_background": "light"
     },
     "output_type": "display_data"
    }
   ],
   "source": [
    "torch_plot.plot(train_accs, test_accs)"
   ]
  },
  {
   "cell_type": "code",
   "execution_count": null,
   "id": "56adc1be",
   "metadata": {},
   "outputs": [],
   "source": []
  }
 ],
 "metadata": {
  "kernelspec": {
   "display_name": "Python 3 (ipykernel)",
   "language": "python",
   "name": "python3"
  },
  "language_info": {
   "codemirror_mode": {
    "name": "ipython",
    "version": 3
   },
   "file_extension": ".py",
   "mimetype": "text/x-python",
   "name": "python",
   "nbconvert_exporter": "python",
   "pygments_lexer": "ipython3",
   "version": "3.8.11"
  },
  "toc": {
   "base_numbering": 1,
   "nav_menu": {},
   "number_sections": true,
   "sideBar": true,
   "skip_h1_title": false,
   "title_cell": "Table of Contents",
   "title_sidebar": "Contents",
   "toc_cell": false,
   "toc_position": {},
   "toc_section_display": true,
   "toc_window_display": false
  }
 },
 "nbformat": 4,
 "nbformat_minor": 5
}
